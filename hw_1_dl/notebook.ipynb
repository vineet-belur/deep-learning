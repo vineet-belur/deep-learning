{
 "cells": [
  {
   "cell_type": "markdown",
   "id": "90ecda0d",
   "metadata": {
    "lines_to_next_cell": 0
   },
   "source": [
    "Basic imports and environment checks:\n",
    "- PyTorch version verification is essential for reproducibility\n",
    "- CUDA availability check - we'll need GPU access for future assignments\n",
    "- If CUDA isn't available, try nvidia-smi in terminal to check GPU status"
   ]
  },
  {
   "cell_type": "code",
   "execution_count": null,
   "id": "ef11d761",
   "metadata": {},
   "outputs": [],
   "source": [
    "import torch\n",
    "\n",
    "print(f\"PyTorch version: {torch.__version__}\")\n",
    "print(f\"CUDA available: {torch.cuda.is_available()}\")"
   ]
  },
  {
   "cell_type": "markdown",
   "id": "0e2a01ed",
   "metadata": {},
   "source": [
    "Converting Python list to tensor - torch.as_tensor() is preferred over torch.tensor()\n",
    "as it can share memory with original data"
   ]
  },
  {
   "cell_type": "code",
   "execution_count": null,
   "id": "30af6aaf",
   "metadata": {},
   "outputs": [],
   "source": [
    "x = [1, 2, 3, 4, 5]\n",
    "x = torch.as_tensor(x)\n",
    "print(x)"
   ]
  },
  {
   "cell_type": "markdown",
   "id": "a18dd5b2",
   "metadata": {},
   "source": [
    "Creating zero-filled tensor - useful for initializing buffers or placeholder tensors"
   ]
  },
  {
   "cell_type": "code",
   "execution_count": null,
   "id": "d5a89262",
   "metadata": {},
   "outputs": [],
   "source": [
    "x = torch.zeros(3, 4)\n",
    "print(x)"
   ]
  },
  {
   "cell_type": "markdown",
   "id": "00ff67b7",
   "metadata": {},
   "source": [
    "Creating tensor filled with ones - commonly used for masks or initialization"
   ]
  },
  {
   "cell_type": "code",
   "execution_count": null,
   "id": "b2c648b0",
   "metadata": {},
   "outputs": [],
   "source": [
    "x = torch.ones(3, 4)\n",
    "print(x)"
   ]
  },
  {
   "cell_type": "markdown",
   "id": "1c46f1c8",
   "metadata": {},
   "source": [
    "Creating tensor with custom fill value - useful when you need specific constant values"
   ]
  },
  {
   "cell_type": "code",
   "execution_count": null,
   "id": "58116616",
   "metadata": {},
   "outputs": [],
   "source": [
    "x = torch.full((3, 4), fill_value=2)\n",
    "print(x)"
   ]
  },
  {
   "cell_type": "markdown",
   "id": "fc23e646",
   "metadata": {},
   "source": [
    "Random tensor from normal distribution - key for weight initialization"
   ]
  },
  {
   "cell_type": "code",
   "execution_count": null,
   "id": "ae283c9d",
   "metadata": {},
   "outputs": [],
   "source": [
    "x = torch.randn(3, 4)\n",
    "print(x)"
   ]
  },
  {
   "cell_type": "markdown",
   "id": "8a73deef",
   "metadata": {},
   "source": [
    "`zeros_like` creates tensor with same shape/dtype as input but filled with zeros"
   ]
  },
  {
   "cell_type": "code",
   "execution_count": null,
   "id": "78b905d2",
   "metadata": {},
   "outputs": [],
   "source": [
    "x = torch.randn(3, 4)\n",
    "y = torch.zeros_like(x)\n",
    "print(y)"
   ]
  },
  {
   "cell_type": "markdown",
   "id": "53811a84",
   "metadata": {},
   "source": [
    "`ones_like` - similar to before but fills with ones"
   ]
  },
  {
   "cell_type": "code",
   "execution_count": null,
   "id": "1f117386",
   "metadata": {},
   "outputs": [],
   "source": [
    "x = torch.randn(3, 4)\n",
    "y = torch.ones_like(x)\n",
    "print(y)"
   ]
  },
  {
   "cell_type": "markdown",
   "id": "d43370d0",
   "metadata": {},
   "source": [
    "`full_like` - creates tensor matching input shape but with custom fill value"
   ]
  },
  {
   "cell_type": "code",
   "execution_count": null,
   "id": "c07680bb",
   "metadata": {},
   "outputs": [],
   "source": [
    "x = torch.randn(3, 4)\n",
    "y = torch.full_like(x, 5)\n",
    "print(y)"
   ]
  },
  {
   "cell_type": "markdown",
   "id": "3d4db449",
   "metadata": {},
   "source": [
    "`new_tensor` creates tensor with inherited properties (device/dtype) from source"
   ]
  },
  {
   "cell_type": "code",
   "execution_count": null,
   "id": "21708807",
   "metadata": {},
   "outputs": [],
   "source": [
    "x = torch.zeros(3, 4, dtype=torch.bool)\n",
    "y = x.new_tensor([1, 2, 3, 4])\n",
    "print(y)"
   ]
  },
  {
   "cell_type": "markdown",
   "id": "f4b16ecc",
   "metadata": {},
   "source": [
    "Broadcasting example with 2D tensors - shows automatic size matching"
   ]
  },
  {
   "cell_type": "code",
   "execution_count": null,
   "id": "a2e22deb",
   "metadata": {},
   "outputs": [],
   "source": [
    "x = torch.ones(5, 1)\n",
    "y = torch.ones(1, 5)\n",
    "z = x + y\n",
    "print(z, z.shape)"
   ]
  },
  {
   "cell_type": "markdown",
   "id": "dceb2dac",
   "metadata": {},
   "source": [
    "Complex broadcasting with 5D tensors - demonstrates multi-dimension expansion"
   ]
  },
  {
   "cell_type": "code",
   "execution_count": null,
   "id": "972da2c6",
   "metadata": {},
   "outputs": [],
   "source": [
    "x = torch.ones(1, 1, 1, 1, 1)\n",
    "y = torch.ones(2, 1, 3, 1, 2)\n",
    "z = x + y\n",
    "print(z, z.shape)"
   ]
  },
  {
   "cell_type": "markdown",
   "id": "d15a0950",
   "metadata": {},
   "source": [
    "Mean reduction - shows global and dimensional mean calculations"
   ]
  },
  {
   "cell_type": "code",
   "execution_count": null,
   "id": "95b8be73",
   "metadata": {},
   "outputs": [],
   "source": [
    "x = torch.ones(3, 4, 5)\n",
    "print(x.mean())\n",
    "print(x.mean(-1))"
   ]
  },
  {
   "cell_type": "markdown",
   "id": "d6e95712",
   "metadata": {},
   "source": [
    "Sum reduction - demonstrates summing across specified dimensions"
   ]
  },
  {
   "cell_type": "code",
   "execution_count": null,
   "id": "26ab2c0c",
   "metadata": {},
   "outputs": [],
   "source": [
    "x = torch.ones(3, 4, 5)\n",
    "print(x.sum(dim=0))\n",
    "print(x.sum(dim=(1, 2)))"
   ]
  },
  {
   "cell_type": "markdown",
   "id": "5dc197df",
   "metadata": {},
   "source": [
    "`keepdim`` usage - shows difference in output shapes"
   ]
  },
  {
   "cell_type": "code",
   "execution_count": null,
   "id": "e927bc7e",
   "metadata": {},
   "outputs": [],
   "source": [
    "x = torch.ones(3, 4, 5)\n",
    "y = x.sum(dim=(1, 2))\n",
    "z = x.sum(dim=(1, 2), keepdim=True)\n",
    "print(y, y.shape)\n",
    "print(z, z.shape)"
   ]
  },
  {
   "cell_type": "markdown",
   "id": "c2b95c4b",
   "metadata": {},
   "source": [
    "Type conversion example - converting float tensor to long (int64)"
   ]
  },
  {
   "cell_type": "code",
   "execution_count": null,
   "id": "df105ac7",
   "metadata": {},
   "outputs": [],
   "source": [
    "x = torch.randn(5, 5)\n",
    "print(x.to(torch.long))"
   ]
  },
  {
   "cell_type": "markdown",
   "id": "0990e554",
   "metadata": {},
   "source": [
    "Reshaping with view - maintains underlying data pointer"
   ]
  },
  {
   "cell_type": "code",
   "execution_count": null,
   "id": "85b4c3a4",
   "metadata": {},
   "outputs": [],
   "source": [
    "x = torch.randn(2, 3, 2)\n",
    "y = x.view(6, 2)\n",
    "z = x.view(-1, 2)\n",
    "print(y, y.shape)\n",
    "print(z, z.shape)"
   ]
  },
  {
   "cell_type": "markdown",
   "id": "e31cc288",
   "metadata": {},
   "source": [
    "Permute operation - reorders dimensions of tensor"
   ]
  },
  {
   "cell_type": "code",
   "execution_count": null,
   "id": "2cf7edef",
   "metadata": {},
   "outputs": [],
   "source": [
    "x = torch.randn(2, 3, 2)\n",
    "y = x.permute(1, 2, 0)\n",
    "print(y, y.shape)"
   ]
  },
  {
   "cell_type": "markdown",
   "id": "101755a3",
   "metadata": {},
   "source": [
    "Concatenation along specified dimension"
   ]
  },
  {
   "cell_type": "code",
   "execution_count": null,
   "id": "dd30b717",
   "metadata": {},
   "outputs": [],
   "source": [
    "x = torch.ones(2, 3)\n",
    "y = torch.ones(2, 3)\n",
    "z = torch.cat([x, y], dim=0)\n",
    "print(z, z.shape)"
   ]
  },
  {
   "cell_type": "markdown",
   "id": "fdc18588",
   "metadata": {},
   "source": [
    "Stack operation - adds new dimension for combining tensors"
   ]
  },
  {
   "cell_type": "code",
   "execution_count": null,
   "id": "040f19d2",
   "metadata": {
    "lines_to_next_cell": 2
   },
   "outputs": [],
   "source": [
    "x = torch.ones(2, 3)\n",
    "y = torch.ones(2, 3)\n",
    "z = torch.stack([x, y], dim=1)\n",
    "print(z, z.shape)"
   ]
  },
  {
   "cell_type": "markdown",
   "id": "5909ac3a",
   "metadata": {},
   "source": [
    "Performance comparison: Python list operations vs PyTorch operations"
   ]
  },
  {
   "cell_type": "code",
   "execution_count": null,
   "id": "0cfb5ede",
   "metadata": {},
   "outputs": [],
   "source": [
    "import time\n",
    "\n",
    "\n",
    "def add_two_lists(x, y):\n",
    "    z = []\n",
    "    for i, j in zip(x, y):\n",
    "        z.append(i + j)\n",
    "    return z\n",
    "\n",
    "\n",
    "x = torch.ones(5000)\n",
    "y = torch.ones(5000)\n",
    "t1 = time.time()\n",
    "z = add_two_lists(x, y)\n",
    "print(f\"{time.time() - t1:.4f} sec.\")"
   ]
  },
  {
   "cell_type": "markdown",
   "id": "a01b782f",
   "metadata": {},
   "source": [
    "PyTorch vectorized operation - significantly faster"
   ]
  },
  {
   "cell_type": "code",
   "execution_count": null,
   "id": "09fb0cc1",
   "metadata": {},
   "outputs": [],
   "source": [
    "def add_two_lists(x, y):\n",
    "    return x + y\n",
    "\n",
    "\n",
    "x = torch.ones(5000)\n",
    "y = torch.ones(5000)\n",
    "t1 = time.time()\n",
    "z = add_two_lists(x, y)\n",
    "print(f\"{time.time() - t1:.4f} sec.\")"
   ]
  },
  {
   "cell_type": "markdown",
   "id": "e7ca7913",
   "metadata": {},
   "source": [
    "Type conversion examples - showing different conversion methods"
   ]
  },
  {
   "cell_type": "code",
   "execution_count": null,
   "id": "c8a6eb00",
   "metadata": {},
   "outputs": [],
   "source": [
    "x = torch.randn(3, 3)\n",
    "y = torch.zeros(5, 2, dtype=torch.long)\n",
    "print(x.to(torch.float32))\n",
    "print(x.to(torch.bool))\n",
    "print(x.to(y))"
   ]
  },
  {
   "cell_type": "markdown",
   "id": "1aac8520",
   "metadata": {},
   "source": [
    "`arange` examples - different ways to create sequences"
   ]
  },
  {
   "cell_type": "code",
   "execution_count": null,
   "id": "f53a0bcc",
   "metadata": {},
   "outputs": [],
   "source": [
    "x = torch.arange(8)\n",
    "print(x)\n",
    "y = torch.arange(2, 8)\n",
    "print(y)\n",
    "z = torch.arange(3, 10, step=2)\n",
    "print(z)"
   ]
  }
 ],
 "metadata": {
  "jupytext": {
   "cell_markers": "region,endregion"
  },
  "kernelspec": {
   "display_name": "Python 3",
   "language": "python",
   "name": "python3"
  }
 },
 "nbformat": 4,
 "nbformat_minor": 5
}
